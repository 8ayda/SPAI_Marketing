{
 "cells": [
  {
   "cell_type": "markdown",
   "metadata": {},
   "source": [
    "# 🧠 SPAI: Barcelona T-Shirt Detection Training\n",
    "This notebook trains a YOLOv8 model to detect Barcelona t-shirts in images, creating a foundational component for the SPAI sports apparel recognition system.\n",
    "\n",
    "### Key Features:\n",
    "- Setup and installation of required packages\n",
    "- Connect to Roboflow workspace for dataset management\n",
    "- Train YOLOv8s model on Barcelona t-shirt dataset\n",
    "- Export trained model to Google Drive for future use\n",
    "\n",
    "> ⚠️ Note that sensitive API keys have been removed. You'll need to configure proper authentication for Roboflow access."
   ]
  },
  {
   "cell_type": "code",
   "execution_count": null,
   "metadata": {
    "collapsed": true,
    "id": "iR58DqkroJFh"
   },
   "outputs": [],
   "source": [
    "!pip install ultralytics roboflow opencv-python matplotlib python-dotenv"
   ]
  },
  {
   "cell_type": "code",
   "execution_count": null,
   "metadata": {
    "id": "qWQyAUUWpWLh"
   },
   "outputs": [],
   "source": [
    "from roboflow import Roboflow\n",
    "import os\n",
    "from dotenv import load_dotenv"
   ]
  },
  {
   "cell_type": "code",
   "execution_count": null,
   "metadata": {
    "collapsed": true,
    "id": "-NYcdpd8oUMg"
   },
   "outputs": [],
   "source": [
    "rf = Roboflow(api_key=os.getenv(\"ROBOFLOW_API_KEY\"))\n",
    "project = rf.workspace(\"spai-63rsh\").project(\"barca-t-shirt\")\n",
    "version = project.version(6)\n",
    "dataset = version.download(\"yolov8\")"
   ]
  },
  {
   "cell_type": "code",
   "execution_count": null,
   "metadata": {
    "id": "nWyb816VpaFF"
   },
   "outputs": [],
   "source": [
    "from ultralytics import YOLO\n",
    "\n",
    "model = YOLO(\"yolov8s.pt\")"
   ]
  },
  {
   "cell_type": "code",
   "execution_count": null,
   "metadata": {
    "id": "Wh6HKKRF1d4r"
   },
   "outputs": [],
   "source": [
    "results = model.train(\n",
    "    data=f\"{dataset.location}/data.yaml\",\n",
    "    epochs=100,\n",
    "    imgsz=640,\n",
    "    batch=8,\n",
    "    name=\"barca_t_shirt_detection\",\n",
    "    device=0\n",
    ")"
   ]
  },
  {
   "cell_type": "code",
   "execution_count": null,
   "metadata": {
    "id": "eLsS-xrgAGa1"
   },
   "outputs": [],
   "source": [
    "from google.colab import drive\n",
    "drive.mount('/content/drive')"
   ]
  },
  {
   "cell_type": "code",
   "execution_count": null,
   "metadata": {
    "id": "nFyukGTmANks"
   },
   "outputs": [],
   "source": [
    "!mkdir -p '/content/drive/MyDrive/YOLOv8_models'\n",
    "!cp -r '/content/runs/detect/barca_t_shirt_detection' '/content/drive/MyDrive/YOLOv8_models'\n",
    "!ls '/content/drive/MyDrive/YOLOv8_models/barca_t_shirt_detection/weights'"
   ]
  }
 ],
 "metadata": {
  "accelerator": "GPU",
  "colab": {
   "gpuType": "T4",
   "provenance": []
  },
  "kernelspec": {
   "display_name": "Python 3",
   "name": "python3"
  },
  "language_info": {
   "name": "python"
  }
 },
 "nbformat": 4,
 "nbformat_minor": 0
}
